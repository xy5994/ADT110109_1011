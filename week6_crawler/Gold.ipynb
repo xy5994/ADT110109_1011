{
  "nbformat": 4,
  "nbformat_minor": 0,
  "metadata": {
    "colab": {
      "provenance": []
    },
    "kernelspec": {
      "name": "python3",
      "display_name": "Python 3"
    },
    "language_info": {
      "name": "python"
    }
  },
  "cells": [
    {
      "cell_type": "code",
      "execution_count": 14,
      "metadata": {
        "colab": {
          "base_uri": "https://localhost:8080/"
        },
        "id": "TA3QQH0PhCpZ",
        "outputId": "ef7466a3-bb8a-4ab7-d8a6-716ef6888310"
      },
      "outputs": [
        {
          "output_type": "stream",
          "name": "stdout",
          "text": [
            "單位:1公克/新臺幣元\n",
            "\n",
            "黃金回售 -> 1993\n",
            "黃金買進 -> 2020\n"
          ]
        }
      ],
      "source": [
        "# 黃金查詢\n",
        "\n",
        "import time\n",
        "import urllib.request as request\n",
        "from bs4 import BeautifulSoup as sp\n",
        "import requests\n",
        "\n",
        "local_time = time.ctime(time.time())\n",
        "\n",
        "url=\"https://rate.bot.com.tw/gold?Lang=zh-TW\" #臺銀新臺幣黃金牌價\n",
        "\n",
        "with request.urlopen(url) as response:\n",
        "  data=response.read().decode(\"utf-8\")\n",
        "  root=sp(data,\"html.parser\")\n",
        "  #print(root)\n",
        "  gold_in=(root.find_all(\"td\")[5].text.replace(\"回售\",\"\").strip())  #找出所有td開頭的標籤 從第六個開始找 python從0開始故[5]/取代文字:把回售改掉 剩下數字/清除空白:再把多餘的空白去掉 就會剩下純數字\n",
        "  gold_out=(root.find_all(\"td\")[2].text.replace(\"買進\",\"\").strip()) #找出所有td開頭的標籤 從第三個開始找 python從0開始故[2]/取代文字:把買進改掉 剩下數字/清除空白:再把多餘的空白去掉 就會剩下純數字\n",
        "  print(\"單位:1公克/新臺幣元\\n\")\n",
        "  print(\"黃金回售 -> \"+gold_in)\n",
        "  print(\"黃金買進 -> \"+gold_out)\n",
        "  time.sleep(1)\n",
        "\n",
        "\n",
        ""
      ]
    }
  ]
}