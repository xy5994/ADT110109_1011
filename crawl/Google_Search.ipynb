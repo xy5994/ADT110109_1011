{
  "nbformat": 4,
  "nbformat_minor": 0,
  "metadata": {
    "colab": {
      "provenance": []
    },
    "kernelspec": {
      "name": "python3",
      "display_name": "Python 3"
    },
    "language_info": {
      "name": "python"
    }
  },
  "cells": [
    {
      "cell_type": "code",
      "execution_count": 3,
      "metadata": {
        "colab": {
          "base_uri": "https://localhost:8080/"
        },
        "id": "UR21s0G9pT8o",
        "outputId": "cb1d5a46-4cdf-4d57-8ce5-7b1372882613"
      },
      "outputs": [
        {
          "output_type": "stream",
          "name": "stdout",
          "text": [
            "標題：寒流- 維基百科，自由的百科全書zh.wikipedia.org › wiki › 寒潮\n",
            "網址：/url?q=https://zh.wikipedia.org/wiki/%25E5%25AF%2592%25E6%25BD%25AE&sa=U&ved=2ahUKEwjf8s3XiP-BAxXqMVkFHcp1CfYQFnoECAIQAg&usg=AOvVaw3ugjZeWJtedoYdZK_ZHxU0\n",
            "\n",
            "標題：寒流_百度百科baike.baidu.com › item › 寒流\n",
            "網址：/url?q=https://baike.baidu.com/item/%25E5%25AF%2592%25E6%25B5%2581/2857686&sa=U&ved=2ahUKEwjf8s3XiP-BAxXqMVkFHcp1CfYQFnoECAsQAg&usg=AOvVaw1qQ5StzgcKrgrzU3WcyZyk\n",
            "\n",
            "標題：寒流- 维基百科，自由的百科全书zh.wikipedia.org › zh-hans › 寒流\n",
            "網址：/url?q=https://zh.wikipedia.org/zh-hans/%25E5%25AF%2592%25E6%25B5%2581&sa=U&ved=2ahUKEwjf8s3XiP-BAxXqMVkFHcp1CfYQFnoECAkQAg&usg=AOvVaw0rXFdSj7vcRNj6p1PmfLnJ\n",
            "\n",
            "標題：寒流与寒潮的区别-水务知识-深圳市罗湖区人民政府门户网站www.szlh.gov.cn › 政民互动 › 业务知识库 › 水务知识\n",
            "網址：/url?q=http://www.szlh.gov.cn/zmhd/ywzsk/swzs/content/post_9287494.html&sa=U&ved=2ahUKEwjf8s3XiP-BAxXqMVkFHcp1CfYQFnoECAQQAg&usg=AOvVaw1SExvh9Zdc7L2WcWCT8leM\n",
            "\n",
            "標題：冷空气、寒潮和寒流的区别 - 中国气象局www.cma.gov.cn › kppd › kppdsytj\n",
            "網址：/url?q=https://www.cma.gov.cn/kppd/kppdsytj/201310/t20131023_229484.html&sa=U&ved=2ahUKEwjf8s3XiP-BAxXqMVkFHcp1CfYQFnoECAEQAg&usg=AOvVaw24OrWaiB7_blECCrxaTzty\n",
            "\n",
            "標題：辭典檢視[寒流: ㄏㄢˊ ㄌㄧㄡˊ] - 教育部《重編國語辭典修訂本》2021dict.revised.moe.edu.tw › dictView\n",
            "網址：/url?q=https://dict.revised.moe.edu.tw/dictView.jsp%3FID%3D81770%26la%3D0%26powerMode%3D0&sa=U&ved=2ahUKEwjf8s3XiP-BAxXqMVkFHcp1CfYQFnoECAwQAg&usg=AOvVaw3TAzeVr-ln3q9SubeZGkyO\n",
            "\n",
            "標題：IAP科普君：冷空气、冷锋、寒潮、寒流 - 中国科学院大气物理研究所www.iap.cas.cn › 科学传播 › 科普文章\n",
            "網址：/url?q=http://www.iap.cas.cn/gb/kxcb_165476/kpwz_165480/202004/t20200417_5551392.html&sa=U&ved=2ahUKEwjf8s3XiP-BAxXqMVkFHcp1CfYQFnoECAgQAg&usg=AOvVaw3DEPCjvtAE_GNUJsBoGLvk\n",
            "\n",
            "標題：寒潮与寒流 - 中国气象局www.cma.gov.cn › kppd › kppdqxwq › kppdjckp\n",
            "網址：/url?q=https://www.cma.gov.cn/kppd/kppdqxwq/kppdjckp/201212/t20121216_197356.html&sa=U&ved=2ahUKEwjf8s3XiP-BAxXqMVkFHcp1CfYQFnoECAMQAg&usg=AOvVaw1r9YdQyqrPDJFCG6UGU3GW\n",
            "\n",
            "標題：低溫特報| 交通部中央氣象署www.cwa.gov.tw › Warning\n",
            "網址：/url?q=https://www.cwa.gov.tw/V8/C/P/Warning/W28.html&sa=U&ved=2ahUKEwjf8s3XiP-BAxXqMVkFHcp1CfYQFnoECAcQAg&usg=AOvVaw3yXRBxcNedvBoJQQbXuB69\n",
            "\n",
            "標題：強烈寒流來襲！嚴防心血管疾病發作-心血管疾病患者及年長者尤應注意www.mohw.gov.tw › ...\n",
            "網址：/url?q=https://www.mohw.gov.tw/cp-2623-19639-1.html&sa=U&ved=2ahUKEwjf8s3XiP-BAxXqMVkFHcp1CfYQFnoECAYQAg&usg=AOvVaw183jEpr3e66E2PiNwWcfCr\n",
            "\n"
          ]
        }
      ],
      "source": [
        "# Google Search\n",
        "import requests\n",
        "from bs4 import BeautifulSoup\n",
        "\n",
        "# Google 搜尋 URL\n",
        "google_url = 'https://www.google.com.tw/search'\n",
        "\n",
        "# parameter查詢參數\n",
        "my_params = {'q': '寒流'} #\"放入想搜尋的關鍵字\"\n",
        "\n",
        "# 下載 Google 搜尋結果\n",
        "r = requests.get(google_url, params = my_params)\n",
        "\n",
        "# 確認是否下載成功\n",
        "if r.status_code == requests.codes.ok:\n",
        "  # 以 BeautifulSoup 解析 HTML 原始碼\n",
        "  soup = BeautifulSoup(r.text, 'html.parser')\n",
        "\n",
        "  # 觀察 HTML 原始碼\n",
        "  #print(soup.prettify())\n",
        "\n",
        "  # 以 CSS 的選擇器來抓取 Google 的搜尋結果\n",
        "  items = soup.select('div.kCrYT > a[href^=\"/url\"]')\n",
        "  #print(items)\n",
        "\n",
        "  for i in items:\n",
        "    # 標題\n",
        "    print(\"標題：\" + i.text)\n",
        "    # 網址\n",
        "    print(\"網址：\" + i.get('href'))\n",
        "    print() #空行"
      ]
    }
  ]
}